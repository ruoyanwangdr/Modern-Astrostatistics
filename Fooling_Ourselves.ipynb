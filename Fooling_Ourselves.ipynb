{
 "cells": [
  {
   "cell_type": "markdown",
   "metadata": {},
   "source": [
    "# Tutorial on common statistical traps"
   ]
  },
  {
   "cell_type": "code",
   "execution_count": 3,
   "metadata": {},
   "outputs": [],
   "source": [
    "import numpy as np\n",
    "import matplotlib.pyplot as plt"
   ]
  },
  {
   "cell_type": "markdown",
   "metadata": {},
   "source": [
    "## Exercise 1: The trouble with p-values"
   ]
  },
  {
   "cell_type": "markdown",
   "metadata": {},
   "source": [
    "### Part I: p-values and their frequentist sense"
   ]
  },
  {
   "cell_type": "code",
   "execution_count": 4,
   "metadata": {},
   "outputs": [],
   "source": [
    "np.random.seed(17)\n",
    "\n",
    "mu = 0\n",
    "sigma = 1\n",
    "N = int(1e6)\n",
    "\n",
    "gaussian = np.random.normal(mu, sigma, N)\n",
    "\n",
    "samples_greater_than_three = 0\n",
    "for val in gaussian:\n",
    "    if val > 3:\n",
    "        samples_greater_than_three+=1\n",
    "\n",
    "fraction_of_samples = samples_greater_than_three/N"
   ]
  },
  {
   "cell_type": "code",
   "execution_count": 5,
   "metadata": {},
   "outputs": [
    {
     "data": {
      "text/plain": [
       "0.001327"
      ]
     },
     "execution_count": 5,
     "metadata": {},
     "output_type": "execute_result"
    }
   ],
   "source": [
    "fraction_of_samples"
   ]
  },
  {
   "cell_type": "markdown",
   "metadata": {},
   "source": [
    "### Part II: p-values in hypothesis testing"
   ]
  },
  {
   "cell_type": "code",
   "execution_count": 6,
   "metadata": {},
   "outputs": [],
   "source": [
    "num_rejects = 0\n",
    "n_tries = np.int(1e6)\n",
    "\n",
    "for i in range(n_tries):\n",
    "    index = int(np.random.rand()*N)\n",
    "    if gaussian[index] > 3:\n",
    "        num_rejects+=1"
   ]
  },
  {
   "cell_type": "code",
   "execution_count": 7,
   "metadata": {},
   "outputs": [
    {
     "data": {
      "text/plain": [
       "1289"
      ]
     },
     "execution_count": 7,
     "metadata": {},
     "output_type": "execute_result"
    }
   ],
   "source": [
    "num_rejects # 2 if 1e3, 1300 if 1e6"
   ]
  },
  {
   "cell_type": "markdown",
   "metadata": {},
   "source": [
    "### Part III: p-values and how they accumulate our own mistakes"
   ]
  },
  {
   "cell_type": "code",
   "execution_count": 8,
   "metadata": {},
   "outputs": [
    {
     "name": "stdout",
     "output_type": "stream",
     "text": [
      "0.022793\n",
      "22668\n"
     ]
    }
   ],
   "source": [
    "N = np.int(1e6)\n",
    "gaussian = np.random.normal(0,1.5,N)\n",
    "samples_greater_than_three = 0\n",
    "for val in gaussian:\n",
    "    if val > 3:\n",
    "        samples_greater_than_three+=1\n",
    "\n",
    "fraction_of_samples = samples_greater_than_three/N\n",
    "print(fraction_of_samples)\n",
    "\n",
    "num_rejects = 0\n",
    "n_tries = np.int(1e6)\n",
    "\n",
    "for i in range(n_tries):\n",
    "    index = int(np.random.rand()*N)\n",
    "    if gaussian[index] > 3:\n",
    "        num_rejects+=1\n",
    "print(num_rejects)"
   ]
  },
  {
   "cell_type": "code",
   "execution_count": 9,
   "metadata": {},
   "outputs": [
    {
     "name": "stdout",
     "output_type": "stream",
     "text": [
      "0.000252\n",
      "233\n"
     ]
    }
   ],
   "source": [
    "N = np.int(1e6)\n",
    "gaussian = np.random.normal(-0.5,1,N)\n",
    "samples_greater_than_three = 0\n",
    "for val in gaussian:\n",
    "    if val > 3:\n",
    "        samples_greater_than_three+=1\n",
    "\n",
    "fraction_of_samples = samples_greater_than_three/N\n",
    "print(fraction_of_samples)\n",
    "\n",
    "num_rejects = 0\n",
    "n_tries = np.int(1e6)\n",
    "\n",
    "for i in range(n_tries):\n",
    "    index = int(np.random.rand()*N)\n",
    "    if gaussian[index] > 3:\n",
    "        num_rejects+=1\n",
    "print(num_rejects)"
   ]
  },
  {
   "cell_type": "code",
   "execution_count": null,
   "metadata": {},
   "outputs": [],
   "source": []
  }
 ],
 "metadata": {
  "kernelspec": {
   "display_name": "Python 3",
   "language": "python",
   "name": "python3"
  },
  "language_info": {
   "codemirror_mode": {
    "name": "ipython",
    "version": 3
   },
   "file_extension": ".py",
   "mimetype": "text/x-python",
   "name": "python",
   "nbconvert_exporter": "python",
   "pygments_lexer": "ipython3",
   "version": "3.6.8"
  }
 },
 "nbformat": 4,
 "nbformat_minor": 2
}

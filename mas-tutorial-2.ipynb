{
 "cells": [
  {
   "cell_type": "code",
   "execution_count": 13,
   "metadata": {},
   "outputs": [],
   "source": [
    "import numpy as np"
   ]
  },
  {
   "cell_type": "code",
   "execution_count": 41,
   "metadata": {},
   "outputs": [
    {
     "name": "stdout",
     "output_type": "stream",
     "text": [
      "0.001338\n"
     ]
    }
   ],
   "source": [
    "# part 1\n",
    "np.random.seed(0)\n",
    "num_samples = np.int(1e6)\n",
    "gaussian_data = np.random.normal(0,1,num_samples)\n",
    "# samples_greater_than_three = [if val > 3 for val in gaussian_data] list comprehension bad syntax\n",
    "samples_greater_than_three = 0\n",
    "for val in gaussian_data:\n",
    "    if val > 3:\n",
    "        samples_greater_than_three+=1\n",
    "\n",
    "fraction_of_samples = samples_greater_than_three/num_samples\n",
    "print(fraction_of_samples)"
   ]
  },
  {
   "cell_type": "code",
   "execution_count": 44,
   "metadata": {},
   "outputs": [
    {
     "name": "stdout",
     "output_type": "stream",
     "text": [
      "2\n"
     ]
    }
   ],
   "source": [
    "# part 2\n",
    "num_rejects = 0\n",
    "n_tries = np.int(1e3) # 2 if 1000, 1300 if 1e6\n",
    "for i in range(n_tries):\n",
    "    index = int(np.random.rand()*num_samples)\n",
    "    if gaussian_data[index] > 3:\n",
    "        num_rejects+=1\n",
    "print(num_rejects)"
   ]
  },
  {
   "cell_type": "code",
   "execution_count": 51,
   "metadata": {},
   "outputs": [
    {
     "name": "stdout",
     "output_type": "stream",
     "text": [
      "0.061\n",
      "56\n"
     ]
    }
   ],
   "source": [
    "# part 3\n",
    "sqrt_two = np.sqrt(2)\n",
    "num_samples = np.int(1e3)\n",
    "gaussian_data = np.random.normal(0,2,num_samples)\n",
    "# samples_greater_than_three = [if val > 3 for val in gaussian_data] list comprehension bad syntax\n",
    "samples_greater_than_three = 0\n",
    "for val in gaussian_data:\n",
    "    if val > 3:\n",
    "        samples_greater_than_three+=1\n",
    "\n",
    "fraction_of_samples = samples_greater_than_three/num_samples\n",
    "print(fraction_of_samples)\n",
    "\n",
    "num_rejects = 0\n",
    "n_tries = np.int(1e3) # 2 if 1000, 1300 if 1e6\n",
    "for i in range(n_tries):\n",
    "    index = int(np.random.rand()*num_samples)\n",
    "    if gaussian_data[index] > 3:\n",
    "        num_rejects+=1\n",
    "print(num_rejects)"
   ]
  },
  {
   "cell_type": "code",
   "execution_count": 50,
   "metadata": {},
   "outputs": [
    {
     "name": "stdout",
     "output_type": "stream",
     "text": [
      "0.000211\n",
      "24\n"
     ]
    }
   ],
   "source": [
    "# part 3 part 2\n",
    "sqrt_two = np.sqrt(2)\n",
    "num_samples = np.int(1e6)\n",
    "gaussian_data = np.random.normal(-0.5,1,num_samples)\n",
    "# samples_greater_than_three = [if val > 3 for val in gaussian_data] list comprehension bad syntax\n",
    "samples_greater_than_three = 0\n",
    "for val in gaussian_data:\n",
    "    if val > 3:\n",
    "        samples_greater_than_three+=1\n",
    "\n",
    "fraction_of_samples = samples_greater_than_three/num_samples\n",
    "print(fraction_of_samples)\n",
    "\n",
    "num_rejects = 0\n",
    "n_tries = np.int(1e5) # 2 if 1000, 1300 if 1e6\n",
    "for i in range(n_tries):\n",
    "    index = int(np.random.rand()*num_samples)\n",
    "    if gaussian_data[index] > 3:\n",
    "        num_rejects+=1\n",
    "print(num_rejects)\n",
    "# supposed to symbolize a dataset in which you think your data is correct (reject the null hypothesis less) but \n",
    "# you're mean is completely wrong, and so your results are completely wrong. (H_0 is that mean = 0)\n",
    "# if you're mean is actually closer to 3, ie mean = 0.5, you'll think you're very wrong. "
   ]
  },
  {
   "cell_type": "code",
   "execution_count": null,
   "metadata": {},
   "outputs": [],
   "source": []
  }
 ],
 "metadata": {
  "kernelspec": {
   "display_name": "Python 3",
   "language": "python",
   "name": "python3"
  },
  "language_info": {
   "codemirror_mode": {
    "name": "ipython",
    "version": 3
   },
   "file_extension": ".py",
   "mimetype": "text/x-python",
   "name": "python",
   "nbconvert_exporter": "python",
   "pygments_lexer": "ipython3",
   "version": "3.6.8"
  }
 },
 "nbformat": 4,
 "nbformat_minor": 2
}

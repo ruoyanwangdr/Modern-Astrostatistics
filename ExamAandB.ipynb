{
 "cells": [
  {
   "cell_type": "markdown",
   "metadata": {},
   "source": [
    "# Modern Astrostatistics Exam examples for Part A and B"
   ]
  },
  {
   "cell_type": "markdown",
   "metadata": {},
   "source": [
    "## Part A: Understanding. Totalling: 15 CP"
   ]
  },
  {
   "cell_type": "markdown",
   "metadata": {},
   "source": [
    "### I) Tigers in India . . . . . . . . . . . . . . . . . . . . . . . . . . . . . . . . . . . . . . . . . . . . . . . . . . . . . . . . . . . . . . . . . . . . . . . . . . 6.5 CP\n",
    "It is uncertain how many tigers are still living in India. It is estimated that between 3000 to 4000 tigers are\n",
    "still populating India’s nature. All numbers between these two limits are equally likely. Tigers come in two\n",
    "variations: white tigers and yellow tigers. Only 3.5 percent of all tigers are white. Let ‘T’ abbreviate ‘tiger’,\n",
    "’W’ shall abbreviate ‘white’ and ‘Y’ shall abbreviate ’yellow’."
   ]
  },
  {
   "cell_type": "markdown",
   "metadata": {},
   "source": [
    "1. Plot the distribution P(T) and give its name (0.5 CP)"
   ]
  },
  {
   "cell_type": "code",
   "execution_count": 10,
   "metadata": {},
   "outputs": [
    {
     "data": {
      "text/plain": [
       "[<matplotlib.lines.Line2D at 0x120933438>]"
      ]
     },
     "execution_count": 10,
     "metadata": {},
     "output_type": "execute_result"
    },
    {
     "data": {
      "image/png": "[encoded data removed]",
      "text/plain": [
       "<Figure size 432x288 with 1 Axes>"
      ]
     },
     "metadata": {
      "needs_background": "light"
     },
     "output_type": "display_data"
    }
   ],
   "source": [
    "import numpy as np\n",
    "import matplotlib.pyplot as plt\n",
    "\n",
    "Tiger = np.random.uniform(0,1, 1000)\n",
    "\n",
    "plt.plot(np.linspace(3000, 4000, 1000), Tiger, '.')"
   ]
  },
  {
   "cell_type": "markdown",
   "metadata": {},
   "source": [
    "2. What does P(W|T) mean (in words), and can you give its numerical value? (0.5+0.5 CP)\n",
    "P.S: The answer ‘P(W|T) is pronounced as probability of W given T’ is insufficient. Explain it such\n",
    "that a top-ranking biologist or your best friend from medicine knows that you are talking about.\n",
    "\n",
    "##### Given the number of tigers in India, what is the probabilty that a tiger among them would be white. P(W|T) = 3.5% *(3000 ~ 4000) = 105 ~ 140\n",
    "\n",
    "3. What does P(T|Y ) mean (in words), and can you give its numerical value? (0.5+0.5 CP)\n",
    "\n",
    "##### Given that something is yellow, what is the probability that it's a tiger. In this case, there's no numerical value.\n",
    "\n",
    "4. Explain what the integral $\\int TP(T)dT$ means, and give its numerical value, if possible. (1+1 CP)\n",
    "\n",
    "##### The expected value of the amount of tigers in India. In this case, it's the average. (3000 + 4000)/2 = 3500 \n",
    "\n",
    "5. Explain what the integral $\\int TP(T|W)dT$ means, and give its numerical value, if possible. (1+1 CP)\n",
    "\n",
    "##### The expected value of the probability of being a tiger if given its color is white. There's no numerical value."
   ]
  },
  {
   "cell_type": "markdown",
   "metadata": {},
   "source": [
    "### II) Elements of importance . . . . . . . . . . . . . . . . . . . . . . . . . . . . . . . . . . . . . . . . . . . . . . . . . . . . . . . . . . . . . . . . . . 5 CP\n",
    "Define (with equations) the following statistical concepts and explain them (in words).\n",
    "\n",
    "1. Maximum-likelihood estimator. (1 CP)\n",
    "\n",
    "In statistics, maximum likelihood estimation (MLE) is a method of estimating the parameters of a statistical model, given observations. The method obtains the parameter estimates by finding the parameter values that maximize the likelihood function. The estimates are called maximum likelihood estimates, which is also abbreviated as MLE.\n",
    "\n",
    "As an example, suppose that we are interested in the heights of adult female penguins, but are unable to measure the height of every penguin in a population (due to cost or time constraints). Assuming that the heights are normally distributed with some unknown mean and variance, the mean and variance can be estimated with MLE while only knowing the heights of some sample of the overall population. MLE would accomplish that by taking the mean and variance as parameters and finding particular parametric values that make the observed results the most probable given the normal model.\n",
    "\n",
    "2. Covariance matrix. (1 CP)\n",
    "\n",
    "A matrix whose element in the i, j position is the covariance between the i-th and j-th elements of a random vector. A random vector is a random variable with multiple dimensions. Each element of the vector is a scalar random variable. Each element has either a finite number of observed empirical values or a finite or infinite number of potential values. The potential values are specified by a theoretical joint probability distribution.\n",
    "\n",
    "3. Statistical independence of two random variables. (1 CP)\n",
    "\n",
    "If the occurrence of one does not affect the probability of occurrence of the other (equivalently, does not affect the odds). Similarly, two random variables are independent if the realization of one does not affect the probability distribution of the other.\n",
    "\n",
    "4. conditional distribution. (1 CP)\n",
    "\n",
    "given two jointly distributed random variables {\\displaystyle X} X and {\\displaystyle Y} Y, the conditional probability distribution of Y given X is the probability distribution of {\\displaystyle Y} Y when {\\displaystyle X} X is known to be a particular value; in some cases the conditional probabilities may be expressed as functions containing the unspecified value {\\displaystyle x} x of {\\displaystyle X} X as a parameter. The conditional distribution contrasts with the marginal distribution of a random variable, which is its distribution without reference to the value of the other variable.\n",
    "\n",
    "5. marginal distribution. (1 CP)\n",
    "\n",
    "The marginal distribution of a subset of a collection of random variables is the probability distribution of the variables contained in the subset. It gives the probabilities of various values of the variables in the subset without reference to the values of the other variables. This contrasts with a conditional distribution, which gives the probabilities contingent upon the values of the other variables."
   ]
  },
  {
   "cell_type": "markdown",
   "metadata": {},
   "source": [
    "### III) Definitions and explanations . . . . . . . . . . . . . . . . . . . . . . . . . . . . . . . . . . . . . . . . . . . . . . . . . . . . . . . . . . . . . .5 CP\n",
    "Define (with equations or through examples in equation form), and explain in words the following terms\n",
    "\n",
    "1. A measure (as in ‘measure space’). (1 CP)\n",
    "\n",
    "A notion of counting. A measure is a function that assigns a non-negative real number or +∞ to (certain) subsets of a set X, which has the following properties: non-negativity, null-empty set, and countable additivity. \n",
    "\n",
    "2. Bayesian Evidence. (1 CP)\n",
    "\n",
    "Prior of data if valid. 2.5.1\n",
    "\n",
    "Mathematically, the evidence is the normalization constant in Bayes theorem, which we\n",
    "neglected during parameter inference.\n",
    "\n",
    "3. Bayes’ Theorem. (1 CP)\n",
    "\n",
    "Bayes' theorem describes the probability of an event, based on prior knowledge of conditions that might be related to the event. \n",
    "\n",
    "4. Matched filter. (1 CP)\n",
    "\n",
    "The matched filter applies in case of additive noise, and optimizes the expected signal-to-noise ratio\n",
    "<S/N>. A matched filter is obtained by correlating a known delayed signal, or template, with an unknown signal to detect the presence of the template in the unknown signal. This is equivalent to convolving the unknown signal with a conjugated time-reversed version of the template.\n",
    "\n",
    "5. Rejection sampling. (1 CP)\n",
    "\n",
    "Rejection sampling is based on the observation that to sample a random variable in one dimension, one can perform a uniformly random sampling of the two-dimensional Cartesian graph, and keep the samples in the region under the graph of its density function."
   ]
  },
  {
   "cell_type": "markdown",
   "metadata": {},
   "source": [
    "### IV) Correct interpretation of statistical tests . . . . . . . . . . . . . . . . . . . . . . . . . . . . . . . . . . . . . . . . . . . . . . . . . . 5 CP\n",
    "\n",
    "1. Describe the $\\chi^2$/degF test: what it is used for and what does it compute? (1 CP)\n",
    "\n",
    "##### The chi-squared test is used to determine whether there is a significant difference between the expected frequencies and the observed frequencies in one or more categories. It computes $\\chi^2=\\Sigma \\frac{(observed-expected)^2}{expected}$\n",
    "\n",
    "2. Name one caveat against it, where the problem is caused by the value of $\\chi$2.\n",
    "Demonstrate your named caveat by giving/inventing a concrete example. (1+1 CP)\n",
    "\n",
    "##### The covariance matrix maybe wrong, like bigger than 1. Values must be independent. EX: supernova tutorial.\n",
    "\n",
    "3. Name one caveat against it, where the problem is caused by the degrees of freedom degF.\n",
    "Demonstrate your named caveat by giving/inventing a concrete example. (1+1 CP)\n",
    "\n",
    "##### Parameters not linear. Chi square mostly works for linear relations. For example, if extremly highly ordered polynomials, chi square fails. For the degF, consider the number of them, and if their correaltion is sufficiently linear. Becareful with the choice the of parameters. "
   ]
  },
  {
   "cell_type": "markdown",
   "metadata": {},
   "source": [
    "### V) Understanding . . . . . . . . . . . . . . . . . . . . . . . . . . . . . . . . . . . . . . . . . . . . . . . . . . . . . . . . . . . . . . . . . . . . . . . . . . 4 CP"
   ]
  },
  {
   "cell_type": "markdown",
   "metadata": {},
   "source": [
    "1. Explain why Bayesian parameter inference works even if the posterior is not normalized. (1 CP)\n",
    "\n",
    "In some cases we don’t care about this property of the distribution. We only care about where the peak of the distribution occurs, regardless of whether the distribution is normalised or not."
   ]
  },
  {
   "cell_type": "markdown",
   "metadata": {},
   "source": [
    "2. Explain the ‘Curse of Dimension’, which makes sampling and inference in high-dimensional spaces difficult. (1 CP)\n",
    "\n",
    "The common theme of these problems is that when the dimensionality increases, the volume of the space increases so fast that the available data become sparse. This sparsity is problematic for any method that requires statistical significance. In order to obtain a statistically sound and reliable result, the amount of data needed to support the result often grows exponentially with the dimensionality. Also, organizing and searching data often relies on detecting areas where objects form groups with similar properties; in high dimensional data, however, all objects appear to be sparse and dissimilar in many ways, which prevents common data organization strategies from being efficient."
   ]
  },
  {
   "cell_type": "markdown",
   "metadata": {},
   "source": [
    "3. Explain which interpretations Bayesians and frequentists attribute to the term ‘probability’. I.e.: define\n",
    "‘probability’ from the Bayesian perspective (1 CP) and from the frequentist perspective (1 CP)."
   ]
  },
  {
   "cell_type": "markdown",
   "metadata": {},
   "source": [
    "### VI) Understanding . . . . . . . . . . . . . . . . . . . . . . . . . . . . . . . . . . . . . . . . . . . . . . . . . . . . . . . . . . . . . . . . . . . . . . . . . . . . x CP\n",
    "Filters can be constructed to quickly si\u001c",
    " through data and search for hidden signals. They can also be optimized,\n",
    "meaning they are the best solution under certain preconditions. Demonstrate your understanding of\n",
    "the matched filter, by answering the following questions."
   ]
  },
  {
   "cell_type": "markdown",
   "metadata": {},
   "source": [
    "1. For a signal vector ~s and data vector ~x, give the equation for the matched filter. Define yourself symbols\n",
    "for potentially missing quantities, and name them.\n",
    "\n",
    "Page 30\n",
    "\n",
    "$\\mathbf{x} =\\vec{s} + \\mathbf{n}$\n",
    "\n",
    "\n",
    "$<\\mathbf{n}> = 0$\n",
    "\n",
    "$<\\mathbf{n}\\mathbf{n}^T> = C$\n",
    "\n",
    "$\\vec{f}=C^{-1}\\vec{s}$\n",
    "\n",
    "n is noise, C is covariance matrix, f is filter, s is signal, x is data point"
   ]
  },
  {
   "cell_type": "markdown",
   "metadata": {},
   "source": [
    "2. The matched filter is an optimzed filter, but what exactly does it optimize? State which quantity it\n",
    "maximizes.\n",
    "\n",
    "Optimize the expected signal-to-noise-ratio.\n",
    "S/N, the sigmal to noise ratio, is on average maximized. "
   ]
  },
  {
   "cell_type": "markdown",
   "metadata": {},
   "source": [
    "3. Explain how the matched filter was optimized: which is the crucial step in its derivation that leads to\n",
    "the matched filter being optimal? If you do not recall the decisive equation, state its name.\n",
    "\n",
    "Crucial step is to saturate the Cauchy-Schwarz inequality. "
   ]
  },
  {
   "cell_type": "markdown",
   "metadata": {},
   "source": [
    "### I) Beta distribution . . . . . . . . . . . . . . . . . . . . . . . . . . . . . . . . . . . . . . . . . . . . . . . . . . . . . . . . . . . . . . . . . . . . . . . . . . . x CP"
   ]
  },
  {
   "cell_type": "markdown",
   "metadata": {},
   "source": [
    "2. How many peaks does the distribution have?\n",
    "\n",
    "a or b > 1, single peak, otherwise, 2 peaks"
   ]
  },
  {
   "cell_type": "markdown",
   "metadata": {},
   "source": [
    "6. If you change s, what happens to the shape of the distribution?\n",
    "\n",
    "s bigger, shape flatter and wider"
   ]
  },
  {
   "cell_type": "markdown",
   "metadata": {},
   "source": [
    "8. From 6 and 7, create a plot which indicates likelihoods of s and $\\mu$ which are definitely incompatible\n",
    "with drawn data x. Indicate a drawn data point x in your plot.\n",
    "\n",
    "change in x is slow if s is large"
   ]
  },
  {
   "cell_type": "markdown",
   "metadata": {},
   "source": [
    "9. If x drawn from equation (2), what is the distribution of $y = kx + l$, for constants $k$; $l$?\n",
    "\n",
    "$mean = k\\mu + l $\n",
    "\n",
    "$width = ks$"
   ]
  }
 ],
 "metadata": {
  "kernelspec": {
   "display_name": "Python 3",
   "language": "python",
   "name": "python3"
  },
  "language_info": {
   "codemirror_mode": {
    "name": "ipython",
    "version": 3
   },
   "file_extension": ".py",
   "mimetype": "text/x-python",
   "name": "python",
   "nbconvert_exporter": "python",
   "pygments_lexer": "ipython3",
   "version": "3.6.8"
  }
 },
 "nbformat": 4,
 "nbformat_minor": 2
}

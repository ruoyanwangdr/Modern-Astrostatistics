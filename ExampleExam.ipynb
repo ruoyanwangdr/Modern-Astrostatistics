{
 "cells": [
  {
   "cell_type": "markdown",
   "metadata": {},
   "source": [
    "### III a) Markov Chain Manipulations 8 CP"
   ]
  },
  {
   "cell_type": "code",
   "execution_count": 84,
   "metadata": {},
   "outputs": [],
   "source": [
    "import pandas as pd\n",
    "\n",
    "filepath = '/Users/RuoyanWang/Documents/LEIDEN/SPRING2019/MAS/Modern-Astrostatistics/'\n",
    "markov_chain = pd.read_csv(filepath+'/MarkovChain.txt', comment='#', sep='\\s+', header=None)\n",
    "#markov_chain.columns = ['M/msolar', 'r[kpc]', 'logP']\n"
   ]
  },
  {
   "cell_type": "code",
   "execution_count": 235,
   "metadata": {},
   "outputs": [
    {
     "data": {
      "text/html": [
       "<div>\n",
       "<style scoped>\n",
       "    .dataframe tbody tr th:only-of-type {\n",
       "        vertical-align: middle;\n",
       "    }\n",
       "\n",
       "    .dataframe tbody tr th {\n",
       "        vertical-align: top;\n",
       "    }\n",
       "\n",
       "    .dataframe thead th {\n",
       "        text-align: right;\n",
       "    }\n",
       "</style>\n",
       "<table border=\"1\" class=\"dataframe\">\n",
       "  <thead>\n",
       "    <tr style=\"text-align: right;\">\n",
       "      <th></th>\n",
       "      <th>0</th>\n",
       "      <th>1</th>\n",
       "      <th>2</th>\n",
       "    </tr>\n",
       "  </thead>\n",
       "  <tbody>\n",
       "    <tr>\n",
       "      <th>0</th>\n",
       "      <td>1.89697</td>\n",
       "      <td>1.95623</td>\n",
       "      <td>1.724970e-219</td>\n",
       "    </tr>\n",
       "    <tr>\n",
       "      <th>1</th>\n",
       "      <td>1.89525</td>\n",
       "      <td>1.91931</td>\n",
       "      <td>4.293340e-214</td>\n",
       "    </tr>\n",
       "    <tr>\n",
       "      <th>2</th>\n",
       "      <td>1.89183</td>\n",
       "      <td>1.97282</td>\n",
       "      <td>1.165500e-208</td>\n",
       "    </tr>\n",
       "    <tr>\n",
       "      <th>3</th>\n",
       "      <td>1.89290</td>\n",
       "      <td>1.98353</td>\n",
       "      <td>3.506810e-173</td>\n",
       "    </tr>\n",
       "    <tr>\n",
       "      <th>4</th>\n",
       "      <td>1.89431</td>\n",
       "      <td>2.06034</td>\n",
       "      <td>2.137500e-160</td>\n",
       "    </tr>\n",
       "    <tr>\n",
       "      <th>5</th>\n",
       "      <td>1.89119</td>\n",
       "      <td>2.04520</td>\n",
       "      <td>1.130900e-155</td>\n",
       "    </tr>\n",
       "    <tr>\n",
       "      <th>6</th>\n",
       "      <td>1.88534</td>\n",
       "      <td>2.04890</td>\n",
       "      <td>8.158740e-131</td>\n",
       "    </tr>\n",
       "    <tr>\n",
       "      <th>7</th>\n",
       "      <td>1.87729</td>\n",
       "      <td>2.07984</td>\n",
       "      <td>1.712980e-116</td>\n",
       "    </tr>\n",
       "    <tr>\n",
       "      <th>8</th>\n",
       "      <td>1.87679</td>\n",
       "      <td>1.99706</td>\n",
       "      <td>6.211500e-111</td>\n",
       "    </tr>\n",
       "    <tr>\n",
       "      <th>9</th>\n",
       "      <td>1.87718</td>\n",
       "      <td>2.03863</td>\n",
       "      <td>4.529680e-110</td>\n",
       "    </tr>\n",
       "    <tr>\n",
       "      <th>10</th>\n",
       "      <td>1.87950</td>\n",
       "      <td>2.03241</td>\n",
       "      <td>5.679380e-110</td>\n",
       "    </tr>\n",
       "    <tr>\n",
       "      <th>11</th>\n",
       "      <td>1.87614</td>\n",
       "      <td>2.05753</td>\n",
       "      <td>3.077230e-109</td>\n",
       "    </tr>\n",
       "    <tr>\n",
       "      <th>12</th>\n",
       "      <td>1.87499</td>\n",
       "      <td>2.07041</td>\n",
       "      <td>1.260340e-108</td>\n",
       "    </tr>\n",
       "    <tr>\n",
       "      <th>13</th>\n",
       "      <td>1.87262</td>\n",
       "      <td>1.98453</td>\n",
       "      <td>5.340410e-108</td>\n",
       "    </tr>\n",
       "    <tr>\n",
       "      <th>14</th>\n",
       "      <td>1.87070</td>\n",
       "      <td>2.01718</td>\n",
       "      <td>1.941690e-107</td>\n",
       "    </tr>\n",
       "    <tr>\n",
       "      <th>15</th>\n",
       "      <td>1.86968</td>\n",
       "      <td>2.06188</td>\n",
       "      <td>3.851000e-107</td>\n",
       "    </tr>\n",
       "    <tr>\n",
       "      <th>16</th>\n",
       "      <td>1.86842</td>\n",
       "      <td>2.02290</td>\n",
       "      <td>6.410510e-107</td>\n",
       "    </tr>\n",
       "    <tr>\n",
       "      <th>17</th>\n",
       "      <td>1.86867</td>\n",
       "      <td>2.06443</td>\n",
       "      <td>3.742580e-107</td>\n",
       "    </tr>\n",
       "    <tr>\n",
       "      <th>18</th>\n",
       "      <td>1.86623</td>\n",
       "      <td>2.10030</td>\n",
       "      <td>1.825360e-106</td>\n",
       "    </tr>\n",
       "    <tr>\n",
       "      <th>19</th>\n",
       "      <td>1.86903</td>\n",
       "      <td>2.07971</td>\n",
       "      <td>3.446080e-107</td>\n",
       "    </tr>\n",
       "    <tr>\n",
       "      <th>20</th>\n",
       "      <td>1.86665</td>\n",
       "      <td>2.02603</td>\n",
       "      <td>5.596580e-108</td>\n",
       "    </tr>\n",
       "    <tr>\n",
       "      <th>21</th>\n",
       "      <td>1.86616</td>\n",
       "      <td>2.08771</td>\n",
       "      <td>1.686040e-107</td>\n",
       "    </tr>\n",
       "    <tr>\n",
       "      <th>22</th>\n",
       "      <td>1.86546</td>\n",
       "      <td>2.02299</td>\n",
       "      <td>1.974220e-106</td>\n",
       "    </tr>\n",
       "    <tr>\n",
       "      <th>23</th>\n",
       "      <td>1.86480</td>\n",
       "      <td>2.11121</td>\n",
       "      <td>1.744030e-105</td>\n",
       "    </tr>\n",
       "    <tr>\n",
       "      <th>24</th>\n",
       "      <td>1.86351</td>\n",
       "      <td>2.08309</td>\n",
       "      <td>7.307370e-105</td>\n",
       "    </tr>\n",
       "    <tr>\n",
       "      <th>25</th>\n",
       "      <td>1.86380</td>\n",
       "      <td>2.17054</td>\n",
       "      <td>3.878490e-105</td>\n",
       "    </tr>\n",
       "    <tr>\n",
       "      <th>26</th>\n",
       "      <td>1.85754</td>\n",
       "      <td>2.18932</td>\n",
       "      <td>3.357030e-103</td>\n",
       "    </tr>\n",
       "    <tr>\n",
       "      <th>27</th>\n",
       "      <td>1.85782</td>\n",
       "      <td>2.17214</td>\n",
       "      <td>3.570360e-103</td>\n",
       "    </tr>\n",
       "    <tr>\n",
       "      <th>28</th>\n",
       "      <td>1.85749</td>\n",
       "      <td>2.16387</td>\n",
       "      <td>5.495600e-103</td>\n",
       "    </tr>\n",
       "    <tr>\n",
       "      <th>29</th>\n",
       "      <td>1.85124</td>\n",
       "      <td>2.19491</td>\n",
       "      <td>2.002420e-101</td>\n",
       "    </tr>\n",
       "    <tr>\n",
       "      <th>...</th>\n",
       "      <td>...</td>\n",
       "      <td>...</td>\n",
       "      <td>...</td>\n",
       "    </tr>\n",
       "    <tr>\n",
       "      <th>5970</th>\n",
       "      <td>1.40714</td>\n",
       "      <td>10.28290</td>\n",
       "      <td>3.140920e-26</td>\n",
       "    </tr>\n",
       "    <tr>\n",
       "      <th>5971</th>\n",
       "      <td>1.40714</td>\n",
       "      <td>10.31020</td>\n",
       "      <td>5.893880e-27</td>\n",
       "    </tr>\n",
       "    <tr>\n",
       "      <th>5972</th>\n",
       "      <td>1.40547</td>\n",
       "      <td>10.32700</td>\n",
       "      <td>2.798590e-26</td>\n",
       "    </tr>\n",
       "    <tr>\n",
       "      <th>5973</th>\n",
       "      <td>1.40626</td>\n",
       "      <td>10.36710</td>\n",
       "      <td>1.088380e-25</td>\n",
       "    </tr>\n",
       "    <tr>\n",
       "      <th>5974</th>\n",
       "      <td>1.41201</td>\n",
       "      <td>10.39600</td>\n",
       "      <td>1.036220e-24</td>\n",
       "    </tr>\n",
       "    <tr>\n",
       "      <th>5975</th>\n",
       "      <td>1.41260</td>\n",
       "      <td>10.40170</td>\n",
       "      <td>6.682910e-25</td>\n",
       "    </tr>\n",
       "    <tr>\n",
       "      <th>5976</th>\n",
       "      <td>1.41047</td>\n",
       "      <td>10.43580</td>\n",
       "      <td>1.033480e-24</td>\n",
       "    </tr>\n",
       "    <tr>\n",
       "      <th>5977</th>\n",
       "      <td>1.40976</td>\n",
       "      <td>10.36730</td>\n",
       "      <td>1.108010e-24</td>\n",
       "    </tr>\n",
       "    <tr>\n",
       "      <th>5978</th>\n",
       "      <td>1.40993</td>\n",
       "      <td>10.40250</td>\n",
       "      <td>9.692300e-25</td>\n",
       "    </tr>\n",
       "    <tr>\n",
       "      <th>5979</th>\n",
       "      <td>1.41123</td>\n",
       "      <td>10.38900</td>\n",
       "      <td>8.056390e-25</td>\n",
       "    </tr>\n",
       "    <tr>\n",
       "      <th>5980</th>\n",
       "      <td>1.40802</td>\n",
       "      <td>10.36820</td>\n",
       "      <td>1.295690e-24</td>\n",
       "    </tr>\n",
       "    <tr>\n",
       "      <th>5981</th>\n",
       "      <td>1.41342</td>\n",
       "      <td>10.36390</td>\n",
       "      <td>7.560820e-25</td>\n",
       "    </tr>\n",
       "    <tr>\n",
       "      <th>5982</th>\n",
       "      <td>1.41096</td>\n",
       "      <td>10.44460</td>\n",
       "      <td>9.028760e-25</td>\n",
       "    </tr>\n",
       "    <tr>\n",
       "      <th>5983</th>\n",
       "      <td>1.41355</td>\n",
       "      <td>10.54900</td>\n",
       "      <td>4.020410e-25</td>\n",
       "    </tr>\n",
       "    <tr>\n",
       "      <th>5984</th>\n",
       "      <td>1.41421</td>\n",
       "      <td>10.52210</td>\n",
       "      <td>3.114920e-25</td>\n",
       "    </tr>\n",
       "    <tr>\n",
       "      <th>5985</th>\n",
       "      <td>1.40960</td>\n",
       "      <td>10.56700</td>\n",
       "      <td>8.924130e-25</td>\n",
       "    </tr>\n",
       "    <tr>\n",
       "      <th>5986</th>\n",
       "      <td>1.40727</td>\n",
       "      <td>10.62440</td>\n",
       "      <td>1.042890e-25</td>\n",
       "    </tr>\n",
       "    <tr>\n",
       "      <th>5987</th>\n",
       "      <td>1.41009</td>\n",
       "      <td>10.61500</td>\n",
       "      <td>1.427960e-25</td>\n",
       "    </tr>\n",
       "    <tr>\n",
       "      <th>5988</th>\n",
       "      <td>1.40966</td>\n",
       "      <td>10.59250</td>\n",
       "      <td>6.215680e-25</td>\n",
       "    </tr>\n",
       "    <tr>\n",
       "      <th>5989</th>\n",
       "      <td>1.41202</td>\n",
       "      <td>10.60380</td>\n",
       "      <td>6.341390e-25</td>\n",
       "    </tr>\n",
       "    <tr>\n",
       "      <th>5990</th>\n",
       "      <td>1.41105</td>\n",
       "      <td>10.66330</td>\n",
       "      <td>1.856680e-25</td>\n",
       "    </tr>\n",
       "    <tr>\n",
       "      <th>5991</th>\n",
       "      <td>1.40932</td>\n",
       "      <td>10.66670</td>\n",
       "      <td>9.992480e-25</td>\n",
       "    </tr>\n",
       "    <tr>\n",
       "      <th>5992</th>\n",
       "      <td>1.40648</td>\n",
       "      <td>10.57700</td>\n",
       "      <td>3.426800e-25</td>\n",
       "    </tr>\n",
       "    <tr>\n",
       "      <th>5993</th>\n",
       "      <td>1.40896</td>\n",
       "      <td>10.60510</td>\n",
       "      <td>1.098690e-24</td>\n",
       "    </tr>\n",
       "    <tr>\n",
       "      <th>5994</th>\n",
       "      <td>1.40621</td>\n",
       "      <td>10.68580</td>\n",
       "      <td>1.190560e-24</td>\n",
       "    </tr>\n",
       "    <tr>\n",
       "      <th>5995</th>\n",
       "      <td>1.40646</td>\n",
       "      <td>10.71150</td>\n",
       "      <td>4.020970e-25</td>\n",
       "    </tr>\n",
       "    <tr>\n",
       "      <th>5996</th>\n",
       "      <td>1.40505</td>\n",
       "      <td>10.74730</td>\n",
       "      <td>3.540120e-25</td>\n",
       "    </tr>\n",
       "    <tr>\n",
       "      <th>5997</th>\n",
       "      <td>1.40110</td>\n",
       "      <td>10.76230</td>\n",
       "      <td>1.272720e-25</td>\n",
       "    </tr>\n",
       "    <tr>\n",
       "      <th>5998</th>\n",
       "      <td>1.40047</td>\n",
       "      <td>10.78070</td>\n",
       "      <td>4.717790e-25</td>\n",
       "    </tr>\n",
       "    <tr>\n",
       "      <th>5999</th>\n",
       "      <td>1.39932</td>\n",
       "      <td>10.83420</td>\n",
       "      <td>8.811190e-25</td>\n",
       "    </tr>\n",
       "  </tbody>\n",
       "</table>\n",
       "<p>6000 rows × 3 columns</p>\n",
       "</div>"
      ],
      "text/plain": [
       "            0         1              2\n",
       "0     1.89697   1.95623  1.724970e-219\n",
       "1     1.89525   1.91931  4.293340e-214\n",
       "2     1.89183   1.97282  1.165500e-208\n",
       "3     1.89290   1.98353  3.506810e-173\n",
       "4     1.89431   2.06034  2.137500e-160\n",
       "5     1.89119   2.04520  1.130900e-155\n",
       "6     1.88534   2.04890  8.158740e-131\n",
       "7     1.87729   2.07984  1.712980e-116\n",
       "8     1.87679   1.99706  6.211500e-111\n",
       "9     1.87718   2.03863  4.529680e-110\n",
       "10    1.87950   2.03241  5.679380e-110\n",
       "11    1.87614   2.05753  3.077230e-109\n",
       "12    1.87499   2.07041  1.260340e-108\n",
       "13    1.87262   1.98453  5.340410e-108\n",
       "14    1.87070   2.01718  1.941690e-107\n",
       "15    1.86968   2.06188  3.851000e-107\n",
       "16    1.86842   2.02290  6.410510e-107\n",
       "17    1.86867   2.06443  3.742580e-107\n",
       "18    1.86623   2.10030  1.825360e-106\n",
       "19    1.86903   2.07971  3.446080e-107\n",
       "20    1.86665   2.02603  5.596580e-108\n",
       "21    1.86616   2.08771  1.686040e-107\n",
       "22    1.86546   2.02299  1.974220e-106\n",
       "23    1.86480   2.11121  1.744030e-105\n",
       "24    1.86351   2.08309  7.307370e-105\n",
       "25    1.86380   2.17054  3.878490e-105\n",
       "26    1.85754   2.18932  3.357030e-103\n",
       "27    1.85782   2.17214  3.570360e-103\n",
       "28    1.85749   2.16387  5.495600e-103\n",
       "29    1.85124   2.19491  2.002420e-101\n",
       "...       ...       ...            ...\n",
       "5970  1.40714  10.28290   3.140920e-26\n",
       "5971  1.40714  10.31020   5.893880e-27\n",
       "5972  1.40547  10.32700   2.798590e-26\n",
       "5973  1.40626  10.36710   1.088380e-25\n",
       "5974  1.41201  10.39600   1.036220e-24\n",
       "5975  1.41260  10.40170   6.682910e-25\n",
       "5976  1.41047  10.43580   1.033480e-24\n",
       "5977  1.40976  10.36730   1.108010e-24\n",
       "5978  1.40993  10.40250   9.692300e-25\n",
       "5979  1.41123  10.38900   8.056390e-25\n",
       "5980  1.40802  10.36820   1.295690e-24\n",
       "5981  1.41342  10.36390   7.560820e-25\n",
       "5982  1.41096  10.44460   9.028760e-25\n",
       "5983  1.41355  10.54900   4.020410e-25\n",
       "5984  1.41421  10.52210   3.114920e-25\n",
       "5985  1.40960  10.56700   8.924130e-25\n",
       "5986  1.40727  10.62440   1.042890e-25\n",
       "5987  1.41009  10.61500   1.427960e-25\n",
       "5988  1.40966  10.59250   6.215680e-25\n",
       "5989  1.41202  10.60380   6.341390e-25\n",
       "5990  1.41105  10.66330   1.856680e-25\n",
       "5991  1.40932  10.66670   9.992480e-25\n",
       "5992  1.40648  10.57700   3.426800e-25\n",
       "5993  1.40896  10.60510   1.098690e-24\n",
       "5994  1.40621  10.68580   1.190560e-24\n",
       "5995  1.40646  10.71150   4.020970e-25\n",
       "5996  1.40505  10.74730   3.540120e-25\n",
       "5997  1.40110  10.76230   1.272720e-25\n",
       "5998  1.40047  10.78070   4.717790e-25\n",
       "5999  1.39932  10.83420   8.811190e-25\n",
       "\n",
       "[6000 rows x 3 columns]"
      ]
     },
     "execution_count": 235,
     "metadata": {},
     "output_type": "execute_result"
    }
   ],
   "source": [
    "markov_chain"
   ]
  },
  {
   "cell_type": "code",
   "execution_count": 238,
   "metadata": {},
   "outputs": [
    {
     "data": {
      "text/plain": [
       "[<matplotlib.lines.Line2D at 0x12f782048>]"
      ]
     },
     "execution_count": 238,
     "metadata": {},
     "output_type": "execute_result"
    },
    {
     "data": {
      "image/png": "[encoded data removed]",
      "text/plain": [
       "<Figure size 432x288 with 1 Axes>"
      ]
     },
     "metadata": {
      "needs_background": "light"
     },
     "output_type": "display_data"
    }
   ],
   "source": [
    "plt.plot(markov_chain[2], '.')"
   ]
  },
  {
   "cell_type": "code",
   "execution_count": 239,
   "metadata": {},
   "outputs": [],
   "source": [
    "markov_chain_burnin_removed = markov_chain[(markov_chain.index<=5850)&(markov_chain.index>=4450)]\n",
    "#markov_chain_burnin_removed = markov_chain[(markov_chain[0]<=1.42)&(markov_chain[1]>=10.1)]"
   ]
  },
  {
   "cell_type": "code",
   "execution_count": 240,
   "metadata": {},
   "outputs": [
    {
     "data": {
      "text/plain": [
       "[<matplotlib.lines.Line2D at 0x12fc2e630>]"
      ]
     },
     "execution_count": 240,
     "metadata": {},
     "output_type": "execute_result"
    },
    {
     "data": {
      "image/png": "[encoded data removed]",
      "text/plain": [
       "<Figure size 432x288 with 1 Axes>"
      ]
     },
     "metadata": {
      "needs_background": "light"
     },
     "output_type": "display_data"
    }
   ],
   "source": [
    "plt.plot(markov_chain_burnin_removed[2], '.')"
   ]
  },
  {
   "cell_type": "code",
   "execution_count": 241,
   "metadata": {},
   "outputs": [
    {
     "data": {
      "text/plain": [
       "[<matplotlib.lines.Line2D at 0x1300d2160>]"
      ]
     },
     "execution_count": 241,
     "metadata": {},
     "output_type": "execute_result"
    },
    {
     "data": {
      "image/png": "[encoded data removed]",
      "text/plain": [
       "<Figure size 432x288 with 1 Axes>"
      ]
     },
     "metadata": {
      "needs_background": "light"
     },
     "output_type": "display_data"
    },
    {
     "data": {
      "image/png": "[encoded data removed]",
      "text/plain": [
       "<Figure size 432x288 with 1 Axes>"
      ]
     },
     "metadata": {
      "needs_background": "light"
     },
     "output_type": "display_data"
    }
   ],
   "source": [
    "plt.figure()\n",
    "#plt.yscale('log')\n",
    "plt.plot(markov_chain_burnin_removed[0],markov_chain_burnin_removed[2], '.')\n",
    "\n",
    "plt.figure()\n",
    "#plt.yscale('log')\n",
    "plt.plot(markov_chain_burnin_removed[1],markov_chain_burnin_removed[2], '.')"
   ]
  },
  {
   "cell_type": "code",
   "execution_count": 245,
   "metadata": {},
   "outputs": [
    {
     "data": {
      "text/plain": [
       "[<matplotlib.lines.Line2D at 0x13061bbe0>]"
      ]
     },
     "execution_count": 245,
     "metadata": {},
     "output_type": "execute_result"
    },
    {
     "data": {
      "image/png": "[encoded data removed]",
      "text/plain": [
       "<Figure size 432x288 with 1 Axes>"
      ]
     },
     "metadata": {
      "needs_background": "light"
     },
     "output_type": "display_data"
    }
   ],
   "source": [
    "plt.plot(markov_chain_burnin_removed[0], markov_chain_burnin_removed[1], '.')"
   ]
  },
  {
   "cell_type": "markdown",
   "metadata": {},
   "source": [
    "##### P(M| r=5 kpc) = 0. There's no more data points after burn-in removed."
   ]
  },
  {
   "cell_type": "code",
   "execution_count": 243,
   "metadata": {},
   "outputs": [],
   "source": [
    "P_r10 = markov_chain_burnin_removed[(markov_chain_burnin_removed[1]<10.1)&(markov_chain_burnin_removed[1]>9.9)]"
   ]
  },
  {
   "cell_type": "code",
   "execution_count": 247,
   "metadata": {},
   "outputs": [
    {
     "data": {
      "text/html": [
       "<div>\n",
       "<style scoped>\n",
       "    .dataframe tbody tr th:only-of-type {\n",
       "        vertical-align: middle;\n",
       "    }\n",
       "\n",
       "    .dataframe tbody tr th {\n",
       "        vertical-align: top;\n",
       "    }\n",
       "\n",
       "    .dataframe thead th {\n",
       "        text-align: right;\n",
       "    }\n",
       "</style>\n",
       "<table border=\"1\" class=\"dataframe\">\n",
       "  <thead>\n",
       "    <tr style=\"text-align: right;\">\n",
       "      <th></th>\n",
       "      <th>0</th>\n",
       "      <th>1</th>\n",
       "      <th>2</th>\n",
       "    </tr>\n",
       "  </thead>\n",
       "  <tbody>\n",
       "    <tr>\n",
       "      <th>4450</th>\n",
       "      <td>1.41179</td>\n",
       "      <td>9.96813</td>\n",
       "      <td>1.322670e-24</td>\n",
       "    </tr>\n",
       "    <tr>\n",
       "      <th>4451</th>\n",
       "      <td>1.41421</td>\n",
       "      <td>9.92824</td>\n",
       "      <td>2.077490e-24</td>\n",
       "    </tr>\n",
       "    <tr>\n",
       "      <th>4452</th>\n",
       "      <td>1.41640</td>\n",
       "      <td>9.97100</td>\n",
       "      <td>5.070800e-24</td>\n",
       "    </tr>\n",
       "    <tr>\n",
       "      <th>4453</th>\n",
       "      <td>1.41085</td>\n",
       "      <td>9.98352</td>\n",
       "      <td>1.940230e-24</td>\n",
       "    </tr>\n",
       "    <tr>\n",
       "      <th>4454</th>\n",
       "      <td>1.41351</td>\n",
       "      <td>10.00460</td>\n",
       "      <td>6.691810e-24</td>\n",
       "    </tr>\n",
       "    <tr>\n",
       "      <th>4455</th>\n",
       "      <td>1.41048</td>\n",
       "      <td>9.99963</td>\n",
       "      <td>7.649900e-24</td>\n",
       "    </tr>\n",
       "    <tr>\n",
       "      <th>4456</th>\n",
       "      <td>1.41021</td>\n",
       "      <td>10.05410</td>\n",
       "      <td>1.146380e-23</td>\n",
       "    </tr>\n",
       "    <tr>\n",
       "      <th>4457</th>\n",
       "      <td>1.41306</td>\n",
       "      <td>10.03860</td>\n",
       "      <td>1.295990e-23</td>\n",
       "    </tr>\n",
       "    <tr>\n",
       "      <th>4458</th>\n",
       "      <td>1.41538</td>\n",
       "      <td>10.06360</td>\n",
       "      <td>9.084620e-24</td>\n",
       "    </tr>\n",
       "    <tr>\n",
       "      <th>4797</th>\n",
       "      <td>1.38175</td>\n",
       "      <td>10.06720</td>\n",
       "      <td>3.580420e-23</td>\n",
       "    </tr>\n",
       "    <tr>\n",
       "      <th>4798</th>\n",
       "      <td>1.38416</td>\n",
       "      <td>10.04740</td>\n",
       "      <td>1.984110e-23</td>\n",
       "    </tr>\n",
       "    <tr>\n",
       "      <th>4799</th>\n",
       "      <td>1.38261</td>\n",
       "      <td>10.00510</td>\n",
       "      <td>2.338300e-23</td>\n",
       "    </tr>\n",
       "    <tr>\n",
       "      <th>4800</th>\n",
       "      <td>1.38320</td>\n",
       "      <td>10.08070</td>\n",
       "      <td>2.256270e-23</td>\n",
       "    </tr>\n",
       "    <tr>\n",
       "      <th>4801</th>\n",
       "      <td>1.38410</td>\n",
       "      <td>10.01590</td>\n",
       "      <td>2.494070e-23</td>\n",
       "    </tr>\n",
       "    <tr>\n",
       "      <th>4802</th>\n",
       "      <td>1.38956</td>\n",
       "      <td>10.05420</td>\n",
       "      <td>1.807320e-23</td>\n",
       "    </tr>\n",
       "    <tr>\n",
       "      <th>4803</th>\n",
       "      <td>1.38774</td>\n",
       "      <td>10.04100</td>\n",
       "      <td>2.366100e-23</td>\n",
       "    </tr>\n",
       "    <tr>\n",
       "      <th>4804</th>\n",
       "      <td>1.38921</td>\n",
       "      <td>10.04050</td>\n",
       "      <td>1.718400e-23</td>\n",
       "    </tr>\n",
       "    <tr>\n",
       "      <th>4805</th>\n",
       "      <td>1.39020</td>\n",
       "      <td>10.08320</td>\n",
       "      <td>1.437690e-23</td>\n",
       "    </tr>\n",
       "    <tr>\n",
       "      <th>4806</th>\n",
       "      <td>1.38745</td>\n",
       "      <td>10.08720</td>\n",
       "      <td>1.355310e-23</td>\n",
       "    </tr>\n",
       "    <tr>\n",
       "      <th>4818</th>\n",
       "      <td>1.38680</td>\n",
       "      <td>9.99018</td>\n",
       "      <td>3.567190e-23</td>\n",
       "    </tr>\n",
       "    <tr>\n",
       "      <th>4819</th>\n",
       "      <td>1.38349</td>\n",
       "      <td>10.04680</td>\n",
       "      <td>4.179160e-23</td>\n",
       "    </tr>\n",
       "    <tr>\n",
       "      <th>4820</th>\n",
       "      <td>1.38569</td>\n",
       "      <td>10.08810</td>\n",
       "      <td>2.228630e-23</td>\n",
       "    </tr>\n",
       "  </tbody>\n",
       "</table>\n",
       "</div>"
      ],
      "text/plain": [
       "            0         1             2\n",
       "4450  1.41179   9.96813  1.322670e-24\n",
       "4451  1.41421   9.92824  2.077490e-24\n",
       "4452  1.41640   9.97100  5.070800e-24\n",
       "4453  1.41085   9.98352  1.940230e-24\n",
       "4454  1.41351  10.00460  6.691810e-24\n",
       "4455  1.41048   9.99963  7.649900e-24\n",
       "4456  1.41021  10.05410  1.146380e-23\n",
       "4457  1.41306  10.03860  1.295990e-23\n",
       "4458  1.41538  10.06360  9.084620e-24\n",
       "4797  1.38175  10.06720  3.580420e-23\n",
       "4798  1.38416  10.04740  1.984110e-23\n",
       "4799  1.38261  10.00510  2.338300e-23\n",
       "4800  1.38320  10.08070  2.256270e-23\n",
       "4801  1.38410  10.01590  2.494070e-23\n",
       "4802  1.38956  10.05420  1.807320e-23\n",
       "4803  1.38774  10.04100  2.366100e-23\n",
       "4804  1.38921  10.04050  1.718400e-23\n",
       "4805  1.39020  10.08320  1.437690e-23\n",
       "4806  1.38745  10.08720  1.355310e-23\n",
       "4818  1.38680   9.99018  3.567190e-23\n",
       "4819  1.38349  10.04680  4.179160e-23\n",
       "4820  1.38569  10.08810  2.228630e-23"
      ]
     },
     "execution_count": 247,
     "metadata": {},
     "output_type": "execute_result"
    }
   ],
   "source": [
    "P_r10"
   ]
  },
  {
   "cell_type": "code",
   "execution_count": 250,
   "metadata": {},
   "outputs": [
    {
     "data": {
      "text/plain": [
       "[<matplotlib.lines.Line2D at 0x1309fc9b0>]"
      ]
     },
     "execution_count": 250,
     "metadata": {},
     "output_type": "execute_result"
    },
    {
     "data": {
      "image/png": "[encoded data removed]",
      "text/plain": [
       "<Figure size 432x288 with 1 Axes>"
      ]
     },
     "metadata": {
      "needs_background": "light"
     },
     "output_type": "display_data"
    }
   ],
   "source": [
    "plt.plot(P_r10[0], P_r10[2], '.')"
   ]
  },
  {
   "cell_type": "markdown",
   "metadata": {},
   "source": [
    "### II b) Sampling 2 CP\n",
    "• Generate 5000 random samples from a uniform distribution with limits [0; 1] (0.5 CP)."
   ]
  },
  {
   "cell_type": "code",
   "execution_count": 33,
   "metadata": {},
   "outputs": [],
   "source": [
    "import numpy as np\n",
    "import matplotlib.pyplot as plt\n",
    "\n",
    "np.random.seed(17)\n",
    "uniform = np.random.uniform(0,1,5000)"
   ]
  },
  {
   "cell_type": "markdown",
   "metadata": {},
   "source": [
    "• For the remainder of this exercise, do not use a random number generator anymore. Instead work with\n",
    "the samples you already have.\n",
    "\n",
    "– Transform your samples to now sample from a Uniform distribution with limits [-1; +1] (0.5 CP).\n",
    "\n",
    "– Use your samples to generate samples from a triangular distribution (1 CP)."
   ]
  },
  {
   "cell_type": "code",
   "execution_count": 141,
   "metadata": {},
   "outputs": [
    {
     "data": {
      "text/plain": [
       "(array([ 45., 150., 259., 346., 437., 446., 362., 241., 155.,  59.]),\n",
       " array([-1.98090802, -1.58784241, -1.19477681, -0.8017112 , -0.40864559,\n",
       "        -0.01557998,  0.37748563,  0.77055124,  1.16361685,  1.55668246,\n",
       "         1.94974807]),\n",
       " <a list of 10 Patch objects>)"
      ]
     },
     "execution_count": 141,
     "metadata": {},
     "output_type": "execute_result"
    },
    {
     "data": {
      "image/png": "[encoded data removed]",
      "text/plain": [
       "<Figure size 432x288 with 1 Axes>"
      ]
     },
     "metadata": {
      "needs_background": "light"
     },
     "output_type": "display_data"
    }
   ],
   "source": [
    "uniform_new_limits = 2*uniform-1 # [-1; +1]\n",
    "\n",
    "left_half = uniform_new_limits[:(int(len(uniform_new_limits)/2))]\n",
    "right_half = uniform_new_limits[(int(len(uniform_new_limits)/2)):]\n",
    "subtraction = right_half-left_half\n",
    "\n",
    "plt.hist(subtraction)"
   ]
  }
 ],
 "metadata": {
  "kernelspec": {
   "display_name": "Python 3",
   "language": "python",
   "name": "python3"
  },
  "language_info": {
   "codemirror_mode": {
    "name": "ipython",
    "version": 3
   },
   "file_extension": ".py",
   "mimetype": "text/x-python",
   "name": "python",
   "nbconvert_exporter": "python",
   "pygments_lexer": "ipython3",
   "version": "3.6.8"
  }
 },
 "nbformat": 4,
 "nbformat_minor": 2
}

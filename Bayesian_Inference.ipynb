{
 "cells": [
  {
   "cell_type": "markdown",
   "metadata": {},
   "source": [
    "# Tutorial on Bayesian Inference"
   ]
  },
  {
   "cell_type": "code",
   "execution_count": 1,
   "metadata": {},
   "outputs": [],
   "source": [
    "import numpy as np\n",
    "import matplotlib.pyplot as plt"
   ]
  },
  {
   "cell_type": "markdown",
   "metadata": {},
   "source": [
    "## 1) Extragalactic radio sources"
   ]
  },
  {
   "cell_type": "code",
   "execution_count": null,
   "metadata": {},
   "outputs": [],
   "source": []
  },
  {
   "cell_type": "markdown",
   "metadata": {},
   "source": [
    "## 2) Modelling and inferring stellar properties"
   ]
  },
  {
   "cell_type": "code",
   "execution_count": 110,
   "metadata": {},
   "outputs": [],
   "source": [
    "T0 = 10\n",
    "sigma_T = 1\n",
    "A = 1\n",
    "L = np.linspace(1.5,2, 100000)\n",
    "\n",
    "P_L = (1/np.sqrt(2*np.pi*sigma_T**2))* \\\n",
    "    (np.exp((-0.5)*((L/(sigma_T*A))**4 - T0)**2 / sigma_T**2))* \\\n",
    "    (1/4*(L/(sigma_T*A))**(-3/4))"
   ]
  },
  {
   "cell_type": "code",
   "execution_count": 137,
   "metadata": {},
   "outputs": [
    {
     "data": {
      "text/plain": [
       "<matplotlib.collections.LineCollection at 0x126eadc88>"
      ]
     },
     "execution_count": 137,
     "metadata": {},
     "output_type": "execute_result"
    },
    {
     "data": {
      "image/png": "[encoded data removed]",
      "text/plain": [
       "<Figure size 432x288 with 1 Axes>"
      ]
     },
     "metadata": {
      "needs_background": "light"
     },
     "output_type": "display_data"
    }
   ],
   "source": [
    "plt.plot(L, P_L)\n",
    "plt.vlines(L[np.where(P_L == max(P_L))], 0, max(P_L))"
   ]
  },
  {
   "cell_type": "code",
   "execution_count": 134,
   "metadata": {},
   "outputs": [
    {
     "data": {
      "text/plain": [
       "array([1.77744277])"
      ]
     },
     "execution_count": 134,
     "metadata": {},
     "output_type": "execute_result"
    }
   ],
   "source": [
    "L[np.where(P_L == max(P_L))]"
   ]
  },
  {
   "cell_type": "code",
   "execution_count": 158,
   "metadata": {},
   "outputs": [],
   "source": [
    "ran = np.random.choice(P_L, 100)"
   ]
  },
  {
   "cell_type": "code",
   "execution_count": 159,
   "metadata": {},
   "outputs": [
    {
     "data": {
      "text/plain": [
       "array([3.02189482e-04, 9.47791336e-03, 2.41422165e-03, 4.36134362e-02,\n",
       "       8.34671048e-03, 2.29311367e-03, 1.90990709e-05, 4.28897335e-03,\n",
       "       2.46057235e-09, 5.04080741e-08, 1.07417421e-07, 1.36052187e-02,\n",
       "       6.47765217e-02, 2.05948940e-06, 1.36436983e-06, 5.03683677e-02,\n",
       "       5.54460737e-02, 2.92759043e-06, 6.38634899e-07, 1.25040718e-03,\n",
       "       3.68148770e-03, 1.06011760e-05, 2.60657076e-02, 1.81160869e-04,\n",
       "       9.18625396e-06, 3.08424900e-04, 8.05189245e-04, 6.44562793e-02,\n",
       "       3.99658994e-02, 9.74711784e-04, 3.27890908e-02, 2.96567613e-02,\n",
       "       2.90342078e-09, 2.88947877e-05, 5.56798691e-02, 3.94608293e-03,\n",
       "       3.28822698e-03, 6.21463075e-06, 4.36178748e-04, 4.69328120e-08,\n",
       "       1.02728811e-08, 3.04280008e-03, 1.11344501e-04, 4.67358695e-05,\n",
       "       2.88947877e-05, 1.03796559e-02, 3.26870382e-06, 1.97864648e-06,\n",
       "       5.53352427e-08, 6.19055255e-02, 7.79904627e-03, 3.93109938e-05,\n",
       "       1.63687810e-06, 1.31424114e-04, 1.23669636e-03, 2.10315401e-06,\n",
       "       9.49205487e-06, 1.41119166e-05, 1.36066137e-04, 6.44371007e-02,\n",
       "       8.55284316e-03, 2.77211123e-02, 2.17386878e-03, 1.89990274e-04,\n",
       "       1.47210035e-03, 5.95983390e-02, 1.38802882e-02, 2.75366339e-02,\n",
       "       1.72330641e-08, 9.54650290e-04, 3.58256645e-02, 4.45803750e-04,\n",
       "       3.19781041e-04, 1.83707394e-02, 7.01407527e-08, 8.12924082e-07,\n",
       "       5.62050268e-02, 1.01929751e-02, 3.85287772e-02, 6.04709938e-03,\n",
       "       9.85380489e-06, 6.28638001e-07, 4.56946519e-02, 2.22726370e-04,\n",
       "       9.88778368e-07, 5.05242966e-02, 6.17789406e-02, 5.18539887e-02,\n",
       "       1.54821463e-04, 5.07471101e-02, 1.11536368e-04, 1.06128886e-04,\n",
       "       5.77869651e-02, 1.08988563e-09, 4.68942299e-08, 8.27727381e-06,\n",
       "       4.81195731e-03, 1.14055854e-05, 4.66061293e-02, 9.15501500e-03])"
      ]
     },
     "execution_count": 159,
     "metadata": {},
     "output_type": "execute_result"
    }
   ],
   "source": [
    "ran"
   ]
  },
  {
   "cell_type": "code",
   "execution_count": 160,
   "metadata": {},
   "outputs": [
    {
     "data": {
      "text/plain": [
       "(array([100.3450006 ,  10.80638468,   4.63130772,   0.        ,\n",
       "          6.17507696,   4.63130772,   3.08753848,   7.7188462 ,\n",
       "          7.7188462 ,   9.26261544]),\n",
       " array([1.08988563e-09, 6.47765315e-03, 1.29553052e-02, 1.94329573e-02,\n",
       "        2.59106093e-02, 3.23882614e-02, 3.88659135e-02, 4.53435655e-02,\n",
       "        5.18212176e-02, 5.82988696e-02, 6.47765217e-02]),\n",
       " <a list of 10 Patch objects>)"
      ]
     },
     "execution_count": 160,
     "metadata": {},
     "output_type": "execute_result"
    },
    {
     "data": {
      "image/png": "[encoded data removed]",
      "text/plain": [
       "<Figure size 432x288 with 1 Axes>"
      ]
     },
     "metadata": {
      "needs_background": "light"
     },
     "output_type": "display_data"
    }
   ],
   "source": [
    "plt.figure()\n",
    "#plt.plot(L, P_L)\n",
    "plt.hist(ran, density=True)"
   ]
  },
  {
   "cell_type": "code",
   "execution_count": null,
   "metadata": {},
   "outputs": [],
   "source": []
  }
 ],
 "metadata": {
  "kernelspec": {
   "display_name": "Python 3",
   "language": "python",
   "name": "python3"
  },
  "language_info": {
   "codemirror_mode": {
    "name": "ipython",
    "version": 3
   },
   "file_extension": ".py",
   "mimetype": "text/x-python",
   "name": "python",
   "nbconvert_exporter": "python",
   "pygments_lexer": "ipython3",
   "version": "3.6.8"
  }
 },
 "nbformat": 4,
 "nbformat_minor": 2
}
